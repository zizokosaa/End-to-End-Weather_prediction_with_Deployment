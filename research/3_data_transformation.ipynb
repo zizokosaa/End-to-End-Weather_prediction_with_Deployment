{
 "cells": [
  {
   "cell_type": "code",
   "execution_count": 2,
   "metadata": {},
   "outputs": [],
   "source": [
    "import os"
   ]
  },
  {
   "cell_type": "code",
   "execution_count": 3,
   "metadata": {},
   "outputs": [
    {
     "data": {
      "text/plain": [
       "'f:\\\\zizo\\\\MLOPS\\\\datascienceproject\\\\research'"
      ]
     },
     "execution_count": 3,
     "metadata": {},
     "output_type": "execute_result"
    }
   ],
   "source": [
    "%pwd"
   ]
  },
  {
   "cell_type": "code",
   "execution_count": 4,
   "metadata": {},
   "outputs": [],
   "source": [
    "os.chdir('../')"
   ]
  },
  {
   "cell_type": "code",
   "execution_count": 5,
   "metadata": {},
   "outputs": [
    {
     "data": {
      "text/plain": [
       "'f:\\\\zizo\\\\MLOPS\\\\datascienceproject'"
      ]
     },
     "execution_count": 5,
     "metadata": {},
     "output_type": "execute_result"
    }
   ],
   "source": [
    "%pwd"
   ]
  },
  {
   "cell_type": "code",
   "execution_count": 6,
   "metadata": {},
   "outputs": [],
   "source": [
    "from dataclasses import dataclass\n",
    "from pathlib import Path \n",
    "\n",
    "@dataclass\n",
    "class DataTransformationConfig:\n",
    "    root_dir: Path\n",
    "    data_path: Path"
   ]
  },
  {
   "cell_type": "code",
   "execution_count": 7,
   "metadata": {},
   "outputs": [],
   "source": [
    "from src.datascience.constants import *\n",
    "from src.datascience.utils.common import read_yaml, create_directories\n",
    "\n",
    "\n",
    "class ConfigurationManager:\n",
    "    def __init__(self,\n",
    "                 config_filepath=CONFIG_FILE_PATH,\n",
    "                 params_filepath=PARAMS_FILE_PATH,\n",
    "                 schema_filepath=SCHEMA_FILE_PATH):\n",
    "        self.config=read_yaml(config_filepath)\n",
    "        self.params=read_yaml(params_filepath)\n",
    "        self.schema=read_yaml(schema_filepath)\n",
    "\n",
    "        create_directories([self.config.artifacts_root])\n",
    "\n",
    "    def get_data_transformation_config(self) -> DataTransformationConfig:\n",
    "        config = self.config.data_transformation\n",
    "\n",
    "        create_directories([config.root_dir])\n",
    "\n",
    "        data_transformation_config = DataTransformationConfig(\n",
    "            root_dir=config.root_dir,\n",
    "            data_path=config.data_path,\n",
    "        )\n",
    "        return data_transformation_config\n",
    "\n"
   ]
  },
  {
   "cell_type": "code",
   "execution_count": 17,
   "metadata": {},
   "outputs": [
    {
     "data": {
      "text/html": [
       "<div>\n",
       "<style scoped>\n",
       "    .dataframe tbody tr th:only-of-type {\n",
       "        vertical-align: middle;\n",
       "    }\n",
       "\n",
       "    .dataframe tbody tr th {\n",
       "        vertical-align: top;\n",
       "    }\n",
       "\n",
       "    .dataframe thead th {\n",
       "        text-align: right;\n",
       "    }\n",
       "</style>\n",
       "<table border=\"1\" class=\"dataframe\">\n",
       "  <thead>\n",
       "    <tr style=\"text-align: right;\">\n",
       "      <th></th>\n",
       "      <th>STATION</th>\n",
       "      <th>NAME</th>\n",
       "      <th>LATITUDE</th>\n",
       "      <th>LONGITUDE</th>\n",
       "      <th>ELEVATION</th>\n",
       "      <th>DATE</th>\n",
       "      <th>TAVG</th>\n",
       "      <th>TAVG_ATTRIBUTES</th>\n",
       "    </tr>\n",
       "  </thead>\n",
       "  <tbody>\n",
       "    <tr>\n",
       "      <th>0</th>\n",
       "      <td>EG000062463</td>\n",
       "      <td>HURGUADA, EG</td>\n",
       "      <td>27.15</td>\n",
       "      <td>33.7167</td>\n",
       "      <td>16.0</td>\n",
       "      <td>2000-01-01</td>\n",
       "      <td>20.6</td>\n",
       "      <td>H,,S</td>\n",
       "    </tr>\n",
       "    <tr>\n",
       "      <th>1</th>\n",
       "      <td>EG000062463</td>\n",
       "      <td>HURGUADA, EG</td>\n",
       "      <td>27.15</td>\n",
       "      <td>33.7167</td>\n",
       "      <td>16.0</td>\n",
       "      <td>2000-01-02</td>\n",
       "      <td>19.7</td>\n",
       "      <td>H,,S</td>\n",
       "    </tr>\n",
       "    <tr>\n",
       "      <th>2</th>\n",
       "      <td>EG000062463</td>\n",
       "      <td>HURGUADA, EG</td>\n",
       "      <td>27.15</td>\n",
       "      <td>33.7167</td>\n",
       "      <td>16.0</td>\n",
       "      <td>2000-01-03</td>\n",
       "      <td>20.9</td>\n",
       "      <td>H,,S</td>\n",
       "    </tr>\n",
       "    <tr>\n",
       "      <th>3</th>\n",
       "      <td>EG000062463</td>\n",
       "      <td>HURGUADA, EG</td>\n",
       "      <td>27.15</td>\n",
       "      <td>33.7167</td>\n",
       "      <td>16.0</td>\n",
       "      <td>2000-01-04</td>\n",
       "      <td>17.3</td>\n",
       "      <td>H,,S</td>\n",
       "    </tr>\n",
       "    <tr>\n",
       "      <th>4</th>\n",
       "      <td>EG000062463</td>\n",
       "      <td>HURGUADA, EG</td>\n",
       "      <td>27.15</td>\n",
       "      <td>33.7167</td>\n",
       "      <td>16.0</td>\n",
       "      <td>2000-01-05</td>\n",
       "      <td>14.6</td>\n",
       "      <td>H,,S</td>\n",
       "    </tr>\n",
       "  </tbody>\n",
       "</table>\n",
       "</div>"
      ],
      "text/plain": [
       "       STATION          NAME  LATITUDE  LONGITUDE  ELEVATION        DATE  \\\n",
       "0  EG000062463  HURGUADA, EG     27.15    33.7167       16.0  2000-01-01   \n",
       "1  EG000062463  HURGUADA, EG     27.15    33.7167       16.0  2000-01-02   \n",
       "2  EG000062463  HURGUADA, EG     27.15    33.7167       16.0  2000-01-03   \n",
       "3  EG000062463  HURGUADA, EG     27.15    33.7167       16.0  2000-01-04   \n",
       "4  EG000062463  HURGUADA, EG     27.15    33.7167       16.0  2000-01-05   \n",
       "\n",
       "   TAVG TAVG_ATTRIBUTES  \n",
       "0  20.6            H,,S  \n",
       "1  19.7            H,,S  \n",
       "2  20.9            H,,S  \n",
       "3  17.3            H,,S  \n",
       "4  14.6            H,,S  "
      ]
     },
     "execution_count": 17,
     "metadata": {},
     "output_type": "execute_result"
    }
   ],
   "source": [
    "import pandas as pd\n",
    "data = pd.read_csv(\"F:\\zizo\\MLOPS\\datascienceproject\\data\\Temp_dataset.csv\")\n",
    "len(data)\n",
    "data.head()"
   ]
  },
  {
   "cell_type": "code",
   "execution_count": 18,
   "metadata": {},
   "outputs": [
    {
     "name": "stdout",
     "output_type": "stream",
     "text": [
      "<class 'pandas.core.frame.DataFrame'>\n",
      "RangeIndex: 98446 entries, 0 to 98445\n",
      "Data columns (total 5 columns):\n",
      " #   Column     Non-Null Count  Dtype  \n",
      "---  ------     --------------  -----  \n",
      " 0   LATITUDE   98446 non-null  float64\n",
      " 1   LONGITUDE  98446 non-null  float64\n",
      " 2   ELEVATION  98446 non-null  float64\n",
      " 3   DATE       98446 non-null  object \n",
      " 4   TAVG       98446 non-null  float64\n",
      "dtypes: float64(4), object(1)\n",
      "memory usage: 3.8+ MB\n"
     ]
    }
   ],
   "source": [
    "data = data.drop([\"STATION\",\"TAVG_ATTRIBUTES\",\"NAME\"],axis= 1)\n",
    "data.info()"
   ]
  },
  {
   "cell_type": "code",
   "execution_count": 19,
   "metadata": {},
   "outputs": [],
   "source": [
    "data['DATE'] = pd.to_datetime(data['DATE'])\n",
    "data['YEAR'] = data['DATE'].dt.year\n",
    "data['MONTH'] = data['DATE'].dt.month\n",
    "data['DAY'] = data['DATE'].dt.day\n",
    "data['DAY_OF_WEEK'] = data['DATE'].dt.dayofweek\n",
    "data['DAY_OF_YEAR'] = data['DATE'].dt.dayofyear"
   ]
  },
  {
   "cell_type": "code",
   "execution_count": 21,
   "metadata": {},
   "outputs": [
    {
     "name": "stdout",
     "output_type": "stream",
     "text": [
      "<class 'pandas.core.frame.DataFrame'>\n",
      "RangeIndex: 98446 entries, 0 to 98445\n",
      "Data columns (total 10 columns):\n",
      " #   Column       Non-Null Count  Dtype         \n",
      "---  ------       --------------  -----         \n",
      " 0   LATITUDE     98446 non-null  float64       \n",
      " 1   LONGITUDE    98446 non-null  float64       \n",
      " 2   ELEVATION    98446 non-null  float64       \n",
      " 3   DATE         98446 non-null  datetime64[ns]\n",
      " 4   TAVG         98446 non-null  float64       \n",
      " 5   YEAR         98446 non-null  int32         \n",
      " 6   MONTH        98446 non-null  int32         \n",
      " 7   DAY          98446 non-null  int32         \n",
      " 8   DAY_OF_WEEK  98446 non-null  int32         \n",
      " 9   DAY_OF_YEAR  98446 non-null  int32         \n",
      "dtypes: datetime64[ns](1), float64(4), int32(5)\n",
      "memory usage: 5.6 MB\n"
     ]
    }
   ],
   "source": [
    "data.info()"
   ]
  },
  {
   "cell_type": "code",
   "execution_count": 26,
   "metadata": {},
   "outputs": [],
   "source": [
    "import os\n",
    "from src.datascience import logger\n",
    "from sklearn.model_selection import train_test_split\n",
    "import pandas as pd\n",
    "\n",
    "class DataTransformation:\n",
    "    def __init__(self, config: DataTransformationConfig):\n",
    "        self.config = config\n",
    "\n",
    "    def Preprocessing(self):\n",
    "        data = pd.read_csv(self.config.data_path)\n",
    "        data = data.drop([\"STATION\",\"TAVG_ATTRIBUTES\",\"NAME\"],axis= 1)\n",
    "\n",
    "        data['DATE'] = pd.to_datetime(data['DATE'])\n",
    "        data['YEAR'] = data['DATE'].dt.year\n",
    "        data['MONTH'] = data['DATE'].dt.month\n",
    "        data['DAY'] = data['DATE'].dt.day\n",
    "        data['DAY_OF_WEEK'] = data['DATE'].dt.dayofweek\n",
    "        data['DAY_OF_YEAR'] = data['DATE'].dt.dayofyear\n",
    "                \n",
    "        return data\n",
    "\n",
    "\n",
    "        \n",
    "    def train_test_splitting(self, data: pd.DataFrame):\n",
    "        train, test = train_test_split(data)\n",
    "        train.to_csv(os.path.join(self.config.root_dir,\"train.csv\"),index=False)\n",
    "        test.to_csv(os.path.join(self.config.root_dir,\"test.csv\"),index = False)\n",
    "\n",
    "        logger.info(\"Splited data into training and test sets\")\n",
    "        logger.info(train.shape)\n",
    "        logger.info(test.shape)\n",
    "\n",
    "        print(train.shape)\n",
    "        print(test.shape)\n"
   ]
  },
  {
   "cell_type": "code",
   "execution_count": 28,
   "metadata": {},
   "outputs": [
    {
     "name": "stdout",
     "output_type": "stream",
     "text": [
      "[2025-03-11 23:55:04,032: INFO: common: yaml file: config\\config.yaml loaded successfully]\n",
      "[2025-03-11 23:55:04,034: INFO: common: yaml file: params.yaml loaded successfully]\n",
      "[2025-03-11 23:55:04,037: INFO: common: yaml file: schema.yaml loaded successfully]\n",
      "[2025-03-11 23:55:04,038: INFO: common: created directory at: artifacts]\n",
      "[2025-03-11 23:55:04,039: INFO: common: created directory at: artifacts/data_transformation]\n",
      "[2025-03-11 23:55:04,470: INFO: 4062491614: Splited data into training and test sets]\n",
      "[2025-03-11 23:55:04,471: INFO: 4062491614: (73834, 10)]\n",
      "[2025-03-11 23:55:04,472: INFO: 4062491614: (24612, 10)]\n",
      "(73834, 10)\n",
      "(24612, 10)\n"
     ]
    }
   ],
   "source": [
    "try:\n",
    "    config = ConfigurationManager()\n",
    "    data_transformation_config = config.get_data_transformation_config()\n",
    "    data_transformation = DataTransformation(config = data_transformation_config)\n",
    "    preprocessing_data = data_transformation.Preprocessing()\n",
    "    data_transformation.train_test_splitting(preprocessing_data)\n",
    "except Exception as e:\n",
    "    raise e"
   ]
  },
  {
   "cell_type": "code",
   "execution_count": null,
   "metadata": {},
   "outputs": [],
   "source": []
  }
 ],
 "metadata": {
  "kernelspec": {
   "display_name": "Python 3",
   "language": "python",
   "name": "python3"
  },
  "language_info": {
   "codemirror_mode": {
    "name": "ipython",
    "version": 3
   },
   "file_extension": ".py",
   "mimetype": "text/x-python",
   "name": "python",
   "nbconvert_exporter": "python",
   "pygments_lexer": "ipython3",
   "version": "3.10.16"
  }
 },
 "nbformat": 4,
 "nbformat_minor": 2
}
