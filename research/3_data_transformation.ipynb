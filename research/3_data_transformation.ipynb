{
 "cells": [
  {
   "cell_type": "code",
   "execution_count": 1,
   "metadata": {},
   "outputs": [],
   "source": [
    "import os"
   ]
  },
  {
   "cell_type": "code",
   "execution_count": 2,
   "metadata": {},
   "outputs": [
    {
     "data": {
      "text/plain": [
       "'f:\\\\zizo\\\\MLOPS\\\\datascienceproject\\\\research'"
      ]
     },
     "execution_count": 2,
     "metadata": {},
     "output_type": "execute_result"
    }
   ],
   "source": [
    "%pwd"
   ]
  },
  {
   "cell_type": "code",
   "execution_count": 3,
   "metadata": {},
   "outputs": [],
   "source": [
    "os.chdir('../')"
   ]
  },
  {
   "cell_type": "code",
   "execution_count": 4,
   "metadata": {},
   "outputs": [
    {
     "data": {
      "text/plain": [
       "'f:\\\\zizo\\\\MLOPS\\\\datascienceproject'"
      ]
     },
     "execution_count": 4,
     "metadata": {},
     "output_type": "execute_result"
    }
   ],
   "source": [
    "%pwd"
   ]
  },
  {
   "cell_type": "code",
   "execution_count": 5,
   "metadata": {},
   "outputs": [],
   "source": [
    "from dataclasses import dataclass\n",
    "from pathlib import Path \n",
    "\n",
    "@dataclass\n",
    "class DataTransformationConfig:\n",
    "    root_dir: Path\n",
    "    data_path: Path"
   ]
  },
  {
   "cell_type": "code",
   "execution_count": 6,
   "metadata": {},
   "outputs": [],
   "source": [
    "from src.datascience.constants import *\n",
    "from src.datascience.utils.common import read_yaml, create_directories\n",
    "\n",
    "\n",
    "class ConfigurationManager:\n",
    "    def __init__(self,\n",
    "                 config_filepath=CONFIG_FILE_PATH,\n",
    "                 params_filepath=PARAMS_FILE_PATH,\n",
    "                 schema_filepath=SCHEMA_FILE_PATH):\n",
    "        self.config=read_yaml(config_filepath)\n",
    "        self.params=read_yaml(params_filepath)\n",
    "        self.schema=read_yaml(schema_filepath)\n",
    "\n",
    "        create_directories([self.config.artifacts_root])\n",
    "\n",
    "    def get_data_transformation_config(self) -> DataTransformationConfig:\n",
    "        config = self.config.data_transformation\n",
    "\n",
    "        create_directories([config.root_dir])\n",
    "\n",
    "        data_transformation_config = DataTransformationConfig(\n",
    "            root_dir=config.root_dir,\n",
    "            data_path=config.data_path,\n",
    "        )\n",
    "        return data_transformation_config\n",
    "\n"
   ]
  },
  {
   "cell_type": "code",
   "execution_count": 8,
   "metadata": {},
   "outputs": [],
   "source": [
    "import os\n",
    "from src.datascience import logger\n",
    "from sklearn.model_selection import train_test_split\n",
    "import pandas as pd\n",
    "from sklearn.preprocessing import MinMaxScaler\n",
    "import numpy as np\n",
    "\n",
    "class DataTransformation:\n",
    "    def __init__(self, config: DataTransformationConfig):\n",
    "        self.config = config\n",
    "\n",
    "    def Preprocessing(self):\n",
    "        data = pd.read_csv(self.config.data_path)\n",
    "        data = data.drop([\"STATION\",\"TAVG_ATTRIBUTES\",\"NAME\"],axis= 1)\n",
    "\n",
    "        data['DATE'] = pd.to_datetime(data['DATE'])\n",
    "        data['YEAR'] = data['DATE'].dt.year\n",
    "        data['MONTH'] = data['DATE'].dt.month\n",
    "        data['DAY'] = data['DATE'].dt.day\n",
    "        data['DAY_OF_WEEK'] = data['DATE'].dt.dayofweek\n",
    "        data['DAY_OF_YEAR'] = data['DATE'].dt.dayofyear\n",
    "        data = data.drop('DATE', axis = 1)\n",
    "        return data\n",
    "    \n",
    "    def train_test_splitting(self,data: pd.DataFrame):\n",
    "\n",
    "        train,test = train_test_split(data)\n",
    "        train.to_csv(os.path.join(self.config.root_dir,\"train.csv\"),index=False)\n",
    "        test.to_csv(os.path.join(self.config.root_dir,\"test.csv\"),index = False)\n",
    "\n",
    "\n",
    "        logger.info(\"Splited data into training and test sets\")\n",
    "        logger.info(train.shape)\n",
    "        logger.info(test.shape)\n",
    "        print(train.shape)\n",
    "        print(test.shape)\n",
    "        \"\"\"scaler = MinMaxScaler()\n",
    "        scaled_data = scaler.fit_transform(data)\n",
    "\n",
    "        sequence_length = 10\n",
    "        num_features = len(data.columns)\n",
    "\n",
    "        sequences = []\n",
    "        labels = []\n",
    "        for i in range(len(scaled_data) - sequence_length):\n",
    "            seq = scaled_data[i:i+sequence_length]\n",
    "            label = scaled_data[i+sequence_length][3]\n",
    "            sequences.append(np.hstack((seq, np.full((sequence_length, 1), label))))\n",
    "\n",
    "        sequences = np.array(sequences)\n",
    "\n",
    "        train_size = int(0.8 * len(sequences))\n",
    "        train, test = sequences[:train_size], sequences[train_size:]\n",
    "\n",
    "        print(\"Train Data shape:\", train.shape)\n",
    "        print(\"Test Data shape:\", test.shape)\n",
    "        train.to_csv(os.path.join(self.config.root_dir,\"train.csv\"),index=False)\n",
    "        test.to_csv(os.path.join(self.config.root_dir,\"test.csv\"),index = False)\n",
    "        \n",
    "        logger.info(\"Splited data into training and test sets\")\n",
    "        logger.info(train.shape)\n",
    "        logger.info(test.shape)\"\"\"\n",
    "\n",
    "\n",
    "        \n",
    "\n",
    "\n"
   ]
  },
  {
   "cell_type": "code",
   "execution_count": 10,
   "metadata": {},
   "outputs": [
    {
     "name": "stdout",
     "output_type": "stream",
     "text": [
      "[2025-04-15 13:09:26,605: INFO: common: yaml file: config\\config.yaml loaded successfully]\n",
      "[2025-04-15 13:09:26,607: INFO: common: yaml file: params.yaml loaded successfully]\n",
      "[2025-04-15 13:09:26,609: INFO: common: yaml file: schema.yaml loaded successfully]\n",
      "[2025-04-15 13:09:26,610: INFO: common: created directory at: artifacts]\n",
      "[2025-04-15 13:09:26,610: INFO: common: created directory at: artifacts/data_transformation]\n",
      "[2025-04-15 13:09:26,986: INFO: 3618622370: Splited data into training and test sets]\n",
      "[2025-04-15 13:09:26,986: INFO: 3618622370: (73834, 9)]\n",
      "[2025-04-15 13:09:26,987: INFO: 3618622370: (24612, 9)]\n",
      "(73834, 9)\n",
      "(24612, 9)\n"
     ]
    }
   ],
   "source": [
    "try:\n",
    "    config = ConfigurationManager()\n",
    "    data_transformation_config = config.get_data_transformation_config()\n",
    "    data_transformation = DataTransformation(config = data_transformation_config)\n",
    "    preprocessing_data = data_transformation.Preprocessing()\n",
    "    data_transformation.train_test_splitting(preprocessing_data)\n",
    "except Exception as e:\n",
    "    raise e"
   ]
  },
  {
   "cell_type": "code",
   "execution_count": null,
   "metadata": {},
   "outputs": [],
   "source": []
  }
 ],
 "metadata": {
  "kernelspec": {
   "display_name": "new_venv",
   "language": "python",
   "name": "python3"
  },
  "language_info": {
   "codemirror_mode": {
    "name": "ipython",
    "version": 3
   },
   "file_extension": ".py",
   "mimetype": "text/x-python",
   "name": "python",
   "nbconvert_exporter": "python",
   "pygments_lexer": "ipython3",
   "version": "3.12.7"
  }
 },
 "nbformat": 4,
 "nbformat_minor": 2
}
