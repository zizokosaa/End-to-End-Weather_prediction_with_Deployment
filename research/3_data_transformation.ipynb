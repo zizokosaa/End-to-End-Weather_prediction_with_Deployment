{
 "cells": [
  {
   "cell_type": "code",
   "execution_count": 11,
   "metadata": {},
   "outputs": [],
   "source": [
    "import os"
   ]
  },
  {
   "cell_type": "code",
   "execution_count": 12,
   "metadata": {},
   "outputs": [
    {
     "data": {
      "text/plain": [
       "'f:\\\\zizo\\\\MLOPS\\\\datascienceproject'"
      ]
     },
     "execution_count": 12,
     "metadata": {},
     "output_type": "execute_result"
    }
   ],
   "source": [
    "%pwd"
   ]
  },
  {
   "cell_type": "code",
   "execution_count": 3,
   "metadata": {},
   "outputs": [],
   "source": [
    "os.chdir('../')"
   ]
  },
  {
   "cell_type": "code",
   "execution_count": 4,
   "metadata": {},
   "outputs": [
    {
     "data": {
      "text/plain": [
       "'f:\\\\zizo\\\\MLOPS\\\\datascienceproject'"
      ]
     },
     "execution_count": 4,
     "metadata": {},
     "output_type": "execute_result"
    }
   ],
   "source": [
    "%pwd"
   ]
  },
  {
   "cell_type": "code",
   "execution_count": 13,
   "metadata": {},
   "outputs": [],
   "source": [
    "from dataclasses import dataclass\n",
    "from pathlib import Path \n",
    "\n",
    "@dataclass\n",
    "class DataTransformationConfig:\n",
    "    root_dir: Path\n",
    "    data_path: Path"
   ]
  },
  {
   "cell_type": "code",
   "execution_count": 14,
   "metadata": {},
   "outputs": [],
   "source": [
    "from src.datascience.constants import *\n",
    "from src.datascience.utils.common import read_yaml, create_directories\n",
    "\n",
    "\n",
    "class ConfigurationManager:\n",
    "    def __init__(self,\n",
    "                 config_filepath=CONFIG_FILE_PATH,\n",
    "                 params_filepath=PARAMS_FILE_PATH,\n",
    "                 schema_filepath=SCHEMA_FILE_PATH):\n",
    "        self.config=read_yaml(config_filepath)\n",
    "        self.params=read_yaml(params_filepath)\n",
    "        self.schema=read_yaml(schema_filepath)\n",
    "\n",
    "        create_directories([self.config.artifacts_root])\n",
    "\n",
    "    def get_data_transformation_config(self) -> DataTransformationConfig:\n",
    "        config = self.config.data_transformation\n",
    "\n",
    "        create_directories([config.root_dir])\n",
    "\n",
    "        data_transformation_config = DataTransformationConfig(\n",
    "            root_dir=config.root_dir,\n",
    "            data_path=config.data_path,\n",
    "        )\n",
    "        return data_transformation_config\n",
    "\n"
   ]
  },
  {
   "cell_type": "code",
   "execution_count": null,
   "metadata": {},
   "outputs": [],
   "source": [
    "import os\n",
    "from src.datascience import logger\n",
    "from sklearn.model_selection import train_test_split\n",
    "import pandas as pd\n",
    "from sklearn.preprocessing import MinMaxScaler\n",
    "import numpy as np\n",
    "\n",
    "class DataTransformation:\n",
    "    def __init__(self, config: DataTransformationConfig):\n",
    "        self.config = config\n",
    "\n",
    "    def Preprocessing(self):\n",
    "        data = pd.read_csv(self.config.data_path)\n",
    "        data = data.drop([\"STATION\",\"TAVG_ATTRIBUTES\",\"NAME\"],axis= 1)\n",
    "\n",
    "        data['DATE'] = pd.to_datetime(data['DATE'])\n",
    "        data['YEAR'] = data['DATE'].dt.year\n",
    "        data['MONTH'] = data['DATE'].dt.month\n",
    "        data['DAY'] = data['DATE'].dt.day\n",
    "        data['DAY_OF_WEEK'] = data['DATE'].dt.dayofweek\n",
    "        data['DAY_OF_YEAR'] = data['DATE'].dt.dayofyear\n",
    "        data = data.drop('DATE', axis = 1)\n",
    "        data.to_csv(os.path.join(self.config.root_dir,\"Temp_dataset_preprocessed.csv\"),index = False)\n",
    "        logger.info(\"Preprocessing the data\")\n",
    "        logger.info(data.shape)\n",
    "        print(data.shape)\n",
    "    \n",
    "\n",
    "\n",
    "\n",
    "        \n",
    "\n",
    "\n"
   ]
  },
  {
   "cell_type": "code",
   "execution_count": 16,
   "metadata": {},
   "outputs": [
    {
     "name": "stdout",
     "output_type": "stream",
     "text": [
      "[2025-04-15 14:46:06,435: INFO: common: yaml file: config\\config.yaml loaded successfully]\n",
      "[2025-04-15 14:46:06,436: INFO: common: yaml file: params.yaml loaded successfully]\n",
      "[2025-04-15 14:46:06,439: INFO: common: yaml file: schema.yaml loaded successfully]\n",
      "[2025-04-15 14:46:06,440: INFO: common: created directory at: artifacts]\n",
      "[2025-04-15 14:46:06,441: INFO: common: created directory at: artifacts/data_transformation]\n",
      "[2025-04-15 14:46:06,811: INFO: 1037991296: Splited data into training and test sets]\n",
      "[2025-04-15 14:46:06,812: INFO: 1037991296: (98446, 9)]\n",
      "(98446, 9)\n"
     ]
    }
   ],
   "source": [
    "try:\n",
    "    config = ConfigurationManager()\n",
    "    data_transformation_config = config.get_data_transformation_config()\n",
    "    data_transformation = DataTransformation(config = data_transformation_config)\n",
    "    data_transformation.Preprocessing()\n",
    "\n",
    "except Exception as e:\n",
    "    raise e"
   ]
  },
  {
   "cell_type": "code",
   "execution_count": null,
   "metadata": {},
   "outputs": [],
   "source": []
  }
 ],
 "metadata": {
  "kernelspec": {
   "display_name": "new_venv",
   "language": "python",
   "name": "python3"
  },
  "language_info": {
   "codemirror_mode": {
    "name": "ipython",
    "version": 3
   },
   "file_extension": ".py",
   "mimetype": "text/x-python",
   "name": "python",
   "nbconvert_exporter": "python",
   "pygments_lexer": "ipython3",
   "version": "3.12.7"
  }
 },
 "nbformat": 4,
 "nbformat_minor": 2
}
