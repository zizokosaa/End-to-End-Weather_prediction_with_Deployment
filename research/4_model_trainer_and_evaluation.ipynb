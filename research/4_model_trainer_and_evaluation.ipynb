{
 "cells": [
  {
   "cell_type": "code",
   "execution_count": 2,
   "metadata": {},
   "outputs": [],
   "source": [
    "import os"
   ]
  },
  {
   "cell_type": "code",
   "execution_count": 3,
   "metadata": {},
   "outputs": [],
   "source": [
    "os.chdir(\"f:\\\\zizo\\\\MLOPS\\\\datascienceproject\")"
   ]
  },
  {
   "cell_type": "code",
   "execution_count": 4,
   "metadata": {},
   "outputs": [
    {
     "data": {
      "text/plain": [
       "'f:\\\\zizo\\\\MLOPS\\\\datascienceproject'"
      ]
     },
     "execution_count": 4,
     "metadata": {},
     "output_type": "execute_result"
    }
   ],
   "source": [
    "%pwd"
   ]
  },
  {
   "cell_type": "code",
   "execution_count": 5,
   "metadata": {},
   "outputs": [],
   "source": [
    "from dataclasses import dataclass\n",
    "from pathlib import Path\n",
    "\n",
    "@dataclass\n",
    "class ModelTrainerConfig:\n",
    "    root_dir: Path\n",
    "    data_path: Path\n",
    "    model_name: str\n",
    "    sequence_length: int\n",
    "    optimizer: str\n",
    "    learning_rate: float\n",
    "    batch_size: int\n",
    "    epochs: int\n",
    "    patience: int\n",
    "    target_column: str"
   ]
  },
  {
   "cell_type": "code",
   "execution_count": 6,
   "metadata": {},
   "outputs": [],
   "source": [
    "from src.datascience.constants import *\n",
    "from src.datascience.utils.common import read_yaml,create_directories\n",
    "\n",
    "class ConfigurationManager:\n",
    "    def __init__(self,\n",
    "                 config_filepath=CONFIG_FILE_PATH,\n",
    "                 params_filepath=PARAMS_FILE_PATH,\n",
    "                 schema_filepath=SCHEMA_FILE_PATH):\n",
    "        self.config=read_yaml(config_filepath)\n",
    "        self.params=read_yaml(params_filepath)\n",
    "        self.schema=read_yaml(schema_filepath)\n",
    "\n",
    "        create_directories([self.config.artifacts_root])\n",
    "\n",
    "    def get_model_trainer_config(self) -> ModelTrainerConfig:\n",
    "        config = self.config.model_trainer\n",
    "        params = self.params.LSTM\n",
    "        schema = self.schema.TARGET_COLUMN\n",
    "\n",
    "        create_directories([config.root_dir])\n",
    "\n",
    "        model_trainer_config = ModelTrainerConfig(\n",
    "            root_dir = config.root_dir,\n",
    "            data_path = config.data_path,\n",
    "            model_name = config.model_name,\n",
    "            sequence_length=params.sequence_length,\n",
    "            optimizer = params.optimizer,\n",
    "            learning_rate= params.learning_rate,\n",
    "            batch_size = params.batch_size,\n",
    "            epochs = params.epochs,\n",
    "            patience = params.patience,\n",
    "            target_column=schema.name\n",
    "        )\n",
    "        \n",
    "        return model_trainer_config"
   ]
  },
  {
   "cell_type": "code",
   "execution_count": null,
   "metadata": {},
   "outputs": [],
   "source": [
    "import pandas as pd\n",
    "import os\n",
    "from src.datascience import logger\n",
    "import tensorflow as tf\n",
    "from sklearn.preprocessing import MinMaxScaler\n",
    "import numpy as np\n",
    "from tensorflow.keras.models import Sequential\n",
    "from tensorflow.keras.layers import LSTM, Dense, Dropout, Input\n",
    "from tensorflow.keras.callbacks import EarlyStopping, ModelCheckpoint\n",
    "from sklearn.model_selection import train_test_split\n",
    "\n",
    "\n",
    "class ModelTrainer:\n",
    "    def __init__(self, config: ModelTrainerConfig):\n",
    "        self.config = config\n",
    "    def create_sequence_and_training(self):\n",
    "        scaler = MinMaxScaler()\n",
    "        df = pd.read_csv(self.config.data_path)\n",
    "        \n",
    "        scaled_data = scaler.fit_transform(df)\n",
    "\n",
    "        sequence_length = self.config.sequence_length\n",
    "        num_features = len(df.columns)\n",
    "\n",
    "        sequences = []\n",
    "        labels = []\n",
    "        for i in range(len(scaled_data) - sequence_length):\n",
    "            seq = scaled_data[i:i+sequence_length]\n",
    "            label = scaled_data[i+sequence_length][3]\n",
    "            sequences.append(seq)\n",
    "            labels.append(label)\n",
    "\n",
    "        sequences = np.array(sequences)\n",
    "        labels = np.array(labels)\n",
    "\n",
    "        train_size = int(0.8 * len(sequences))\n",
    "        train_x, test_x = sequences[:train_size], sequences[train_size:]\n",
    "        train_y, test_y = labels[:train_size], labels[train_size:]\n",
    "\n",
    "        print(\"Train X shape:\", train_x.shape)\n",
    "        print(\"Train Y shape:\", train_y.shape)\n",
    "        print(\"Test X shape:\", test_x.shape)\n",
    "        print(\"Test Y shape:\", test_y.shape)\n",
    "        return train_x,train_y,test_x,test_y\n",
    "\n",
    "\n",
    "    def Creating_model(self,train_x,train_y):\n",
    "        model = Sequential([\n",
    "            Input(shape=(train_x.shape[1], train_x.shape[2])),\n",
    "            LSTM(units=128, return_sequences=True),\n",
    "            Dropout(0.2),\n",
    "            LSTM(units=64, return_sequences=True),\n",
    "            Dropout(0.2),\n",
    "            LSTM(units=32, return_sequences=False),\n",
    "            Dropout(0.2),\n",
    "            Dense(units=1)\n",
    "        ])\n",
    "\n",
    "        # Compile the model\n",
    "        model.compile(optimizer=self.config.optimizer, loss='mean_squared_error')\n",
    "        early_stopping = EarlyStopping(monitor='val_loss', patience=self.config.patience, restore_best_weights=True)\n",
    "        model_checkpoint = ModelCheckpoint(os.path.join(self.config.root_dir, self.config.model_name), monitor='val_loss', save_best_only=True)\n",
    "\n",
    "        # Train the model\n",
    "        history = model.fit(\n",
    "            train_x, train_y,\n",
    "            epochs=self.config.epochs,\n",
    "            batch_size=self.config.batch_size,\n",
    "            validation_split=0.2,  # Use part of the training data as validation\n",
    "            callbacks=[early_stopping, model_checkpoint]\n",
    ")\n",
    "    "
   ]
  },
  {
   "cell_type": "code",
   "execution_count": 10,
   "metadata": {},
   "outputs": [
    {
     "name": "stdout",
     "output_type": "stream",
     "text": [
      "[2025-04-15 19:48:46,968: INFO: common: yaml file: config\\config.yaml loaded successfully]\n",
      "[2025-04-15 19:48:46,971: INFO: common: yaml file: params.yaml loaded successfully]\n",
      "[2025-04-15 19:48:46,973: INFO: common: yaml file: schema.yaml loaded successfully]\n",
      "[2025-04-15 19:48:46,974: INFO: common: created directory at: artifacts]\n",
      "[2025-04-15 19:48:46,975: INFO: common: created directory at: artifacts/model_trainer]\n",
      "Train X shape: (78748, 10, 9)\n",
      "Train Y shape: (78748,)\n",
      "Test X shape: (19688, 10, 9)\n",
      "Test Y shape: (19688,)\n",
      "Epoch 1/15\n",
      "\u001b[1m985/985\u001b[0m \u001b[32m━━━━━━━━━━━━━━━━━━━━\u001b[0m\u001b[37m\u001b[0m \u001b[1m16s\u001b[0m 13ms/step - loss: 0.0150 - val_loss: 0.0042\n",
      "Epoch 2/15\n",
      "\u001b[1m985/985\u001b[0m \u001b[32m━━━━━━━━━━━━━━━━━━━━\u001b[0m\u001b[37m\u001b[0m \u001b[1m13s\u001b[0m 14ms/step - loss: 0.0051 - val_loss: 0.0031\n",
      "Epoch 3/15\n",
      "\u001b[1m985/985\u001b[0m \u001b[32m━━━━━━━━━━━━━━━━━━━━\u001b[0m\u001b[37m\u001b[0m \u001b[1m13s\u001b[0m 13ms/step - loss: 0.0039 - val_loss: 0.0018\n",
      "Epoch 4/15\n",
      "\u001b[1m985/985\u001b[0m \u001b[32m━━━━━━━━━━━━━━━━━━━━\u001b[0m\u001b[37m\u001b[0m \u001b[1m13s\u001b[0m 13ms/step - loss: 0.0026 - val_loss: 0.0021\n",
      "Epoch 5/15\n",
      "\u001b[1m985/985\u001b[0m \u001b[32m━━━━━━━━━━━━━━━━━━━━\u001b[0m\u001b[37m\u001b[0m \u001b[1m14s\u001b[0m 14ms/step - loss: 0.0024 - val_loss: 0.0017\n",
      "Epoch 6/15\n",
      "\u001b[1m985/985\u001b[0m \u001b[32m━━━━━━━━━━━━━━━━━━━━\u001b[0m\u001b[37m\u001b[0m \u001b[1m15s\u001b[0m 15ms/step - loss: 0.0022 - val_loss: 0.0023\n",
      "Epoch 7/15\n",
      "\u001b[1m985/985\u001b[0m \u001b[32m━━━━━━━━━━━━━━━━━━━━\u001b[0m\u001b[37m\u001b[0m \u001b[1m16s\u001b[0m 17ms/step - loss: 0.0022 - val_loss: 0.0017\n",
      "Epoch 8/15\n",
      "\u001b[1m985/985\u001b[0m \u001b[32m━━━━━━━━━━━━━━━━━━━━\u001b[0m\u001b[37m\u001b[0m \u001b[1m17s\u001b[0m 17ms/step - loss: 0.0022 - val_loss: 0.0018\n",
      "Epoch 9/15\n",
      "\u001b[1m985/985\u001b[0m \u001b[32m━━━━━━━━━━━━━━━━━━━━\u001b[0m\u001b[37m\u001b[0m \u001b[1m13s\u001b[0m 14ms/step - loss: 0.0022 - val_loss: 0.0016\n",
      "Epoch 10/15\n",
      "\u001b[1m985/985\u001b[0m \u001b[32m━━━━━━━━━━━━━━━━━━━━\u001b[0m\u001b[37m\u001b[0m \u001b[1m13s\u001b[0m 13ms/step - loss: 0.0021 - val_loss: 0.0016\n",
      "Epoch 11/15\n",
      "\u001b[1m985/985\u001b[0m \u001b[32m━━━━━━━━━━━━━━━━━━━━\u001b[0m\u001b[37m\u001b[0m \u001b[1m12s\u001b[0m 12ms/step - loss: 0.0021 - val_loss: 0.0016\n",
      "Epoch 12/15\n",
      "\u001b[1m985/985\u001b[0m \u001b[32m━━━━━━━━━━━━━━━━━━━━\u001b[0m\u001b[37m\u001b[0m \u001b[1m13s\u001b[0m 13ms/step - loss: 0.0021 - val_loss: 0.0016\n",
      "Epoch 13/15\n",
      "\u001b[1m985/985\u001b[0m \u001b[32m━━━━━━━━━━━━━━━━━━━━\u001b[0m\u001b[37m\u001b[0m \u001b[1m13s\u001b[0m 13ms/step - loss: 0.0021 - val_loss: 0.0016\n",
      "Epoch 14/15\n",
      "\u001b[1m985/985\u001b[0m \u001b[32m━━━━━━━━━━━━━━━━━━━━\u001b[0m\u001b[37m\u001b[0m \u001b[1m16s\u001b[0m 16ms/step - loss: 0.0021 - val_loss: 0.0016\n",
      "Epoch 15/15\n",
      "\u001b[1m985/985\u001b[0m \u001b[32m━━━━━━━━━━━━━━━━━━━━\u001b[0m\u001b[37m\u001b[0m \u001b[1m17s\u001b[0m 17ms/step - loss: 0.0021 - val_loss: 0.0016\n"
     ]
    }
   ],
   "source": [
    "try:\n",
    "    config = ConfigurationManager()\n",
    "    model_trainer_config = config.get_model_trainer_config()\n",
    "    model_trainer_config = ModelTrainer(config = model_trainer_config)\n",
    "    train_x ,train_y,test_x,test_y = model_trainer_config.create_sequence_and_training()\n",
    "    model_trainer_config.Creating_model(train_x,train_y)\n",
    "except Exception as e:\n",
    "    raise e"
   ]
  },
  {
   "cell_type": "markdown",
   "metadata": {},
   "source": [
    "# Model Evaulation"
   ]
  },
  {
   "cell_type": "code",
   "execution_count": 11,
   "metadata": {},
   "outputs": [],
   "source": [
    "import os\n",
    "os.environ['MLFLOW_TRACKING_URI'] = \"https://dagshub.com/zizokosaa/datascienceproject.mlflow\"\n",
    "os.environ['MLFLOW_TRACKING_USERNAME'] = \"zizokosaa\"\n",
    "os.environ['MLFLOW_TRACKING_PASSWORD'] = \"0a814d4b710305469e1d136c3e175e425874d6af\""
   ]
  },
  {
   "cell_type": "code",
   "execution_count": 12,
   "metadata": {},
   "outputs": [],
   "source": [
    "from dataclasses import dataclass\n",
    "from pathlib import Path\n",
    "\n",
    "@dataclass\n",
    "class ModelEvaluationConfig:\n",
    "    root_dir: Path\n",
    "    model_path: Path\n",
    "    all_params: dict\n",
    "    metric_file_name: Path\n",
    "    target_column: str\n",
    "    mlflow_uri: str"
   ]
  },
  {
   "cell_type": "code",
   "execution_count": 13,
   "metadata": {},
   "outputs": [],
   "source": [
    "from src.datascience.constants import *\n",
    "from src.datascience.utils.common import read_yaml,create_directories,save_json\n",
    "\n",
    "class ConfigurationManager:\n",
    "    def __init__(self,\n",
    "                 config_filepath=CONFIG_FILE_PATH,\n",
    "                 params_filepath=PARAMS_FILE_PATH,\n",
    "                 schema_filepath=SCHEMA_FILE_PATH):\n",
    "        self.config=read_yaml(config_filepath)\n",
    "        self.params=read_yaml(params_filepath)\n",
    "        self.schema=read_yaml(schema_filepath)\n",
    "\n",
    "        create_directories([self.config.artifacts_root])\n",
    "\n",
    "    def get_model_evaluation_config(self) -> ModelEvaluationConfig:\n",
    "        config = self.config.model_evaluation\n",
    "        params = self.params.LSTM\n",
    "        schema = self.schema.TARGET_COLUMN\n",
    "\n",
    "        create_directories([config.root_dir])\n",
    "\n",
    "        model_evaluation_config = ModelEvaluationConfig(\n",
    "            root_dir = config.root_dir,\n",
    "            model_path = config.model_path,\n",
    "            all_params=params,\n",
    "            metric_file_name=config.metric_file_name,\n",
    "            target_column=schema.name,\n",
    "            mlflow_uri=\"https://dagshub.com/zizokosaa/datascienceproject.mlflow\"\n",
    "        )\n",
    "        \n",
    "        return model_evaluation_config"
   ]
  },
  {
   "cell_type": "code",
   "execution_count": 22,
   "metadata": {},
   "outputs": [],
   "source": [
    "import pandas as pd\n",
    "from sklearn.metrics import mean_squared_error,mean_absolute_error,r2_score\n",
    "from urllib.parse import urlparse\n",
    "import mlflow\n",
    "import mlflow.keras\n",
    "import numpy as np\n",
    "from tensorflow.keras.models import load_model\n",
    "\n",
    "\n",
    "class ModelEvaluation:\n",
    "    def __init__(self,config: ModelEvaluationConfig):\n",
    "        self.config = config\n",
    "\n",
    "    def eval_metrics(self,actual,pred):\n",
    "        rmse = np.sqrt(mean_squared_error(actual,pred))\n",
    "        mae = mean_absolute_error(actual,pred)\n",
    "        r2 = r2_score(actual,pred)\n",
    "        return rmse, mae, r2\n",
    "    \n",
    "    def log_into_mlflow(self,test_x,test_y):\n",
    "        model = load_model(self.config.model_path)\n",
    "\n",
    "        \n",
    "        mlflow.set_registry_uri(self.config.mlflow_uri)\n",
    "        tracking_url_type_store = urlparse(mlflow.get_tracking_uri()).scheme\n",
    "\n",
    "        with mlflow.start_run():\n",
    "            predicted_qualities = model.predict(test_x)\n",
    "\n",
    "            (rmse,mae,r2) = self.eval_metrics(test_y,predicted_qualities)\n",
    "\n",
    "            # Saving metrics as local\n",
    "            scores = {\"rmse\": rmse, \"mae\": mae,\"r2\":r2}\n",
    "            save_json(path = Path(self.config.metric_file_name),data=scores)\n",
    "\n",
    "            mlflow.log_params(self.config.all_params)\n",
    "\n",
    "            mlflow.log_metric(\"rmse\",rmse)\n",
    "            mlflow.log_metric(\"mae\",mae)\n",
    "            mlflow.log_metric(\"r2\",r2)\n",
    "\n",
    "\n",
    "            # Model registry does not work with file store\n",
    "            if tracking_url_type_store != \"file\":\n",
    "                mlflow.keras.log_model(\n",
    "                    model,\n",
    "                    \"model\",\n",
    "                    registered_model_name=\"LSTMModel\"\n",
    "                )\n",
    "            else:\n",
    "                mlflow.keras.log_model(model, \"model\")"
   ]
  },
  {
   "cell_type": "code",
   "execution_count": 24,
   "metadata": {},
   "outputs": [
    {
     "name": "stdout",
     "output_type": "stream",
     "text": [
      "[2025-04-15 22:31:13,785: INFO: common: yaml file: config\\config.yaml loaded successfully]\n",
      "[2025-04-15 22:31:13,787: INFO: common: yaml file: params.yaml loaded successfully]\n",
      "[2025-04-15 22:31:13,789: INFO: common: yaml file: schema.yaml loaded successfully]\n",
      "[2025-04-15 22:31:13,790: INFO: common: created directory at: artifacts]\n",
      "[2025-04-15 22:31:13,792: INFO: common: created directory at: artifacts/model_evaluation]\n",
      "\u001b[1m616/616\u001b[0m \u001b[32m━━━━━━━━━━━━━━━━━━━━\u001b[0m\u001b[37m\u001b[0m \u001b[1m3s\u001b[0m 4ms/step\n",
      "[2025-04-15 22:31:17,907: INFO: common: json file saved at: artifacts\\model_evaluation\\metrics.json]\n"
     ]
    },
    {
     "name": "stderr",
     "output_type": "stream",
     "text": [
      "2025/04/15 22:31:19 WARNING mlflow.keras.save: You are saving a Keras model without specifying model signature.\n",
      "2025/04/15 22:31:26 WARNING mlflow.models.model: Model logged without a signature and input example. Please set `input_example` parameter when logging the model to auto infer the model signature.\n",
      "Registered model 'LSTMModel' already exists. Creating a new version of this model...\n",
      "2025/04/15 22:31:34 INFO mlflow.store.model_registry.abstract_store: Waiting up to 300 seconds for model version to finish creation. Model name: LSTMModel, version 3\n",
      "Created version '3' of model 'LSTMModel'.\n"
     ]
    },
    {
     "name": "stdout",
     "output_type": "stream",
     "text": [
      "🏃 View run popular-dolphin-623 at: https://dagshub.com/zizokosaa/datascienceproject.mlflow/#/experiments/0/runs/4b75be8df80b4b309ade4ded0544dd53\n",
      "🧪 View experiment at: https://dagshub.com/zizokosaa/datascienceproject.mlflow/#/experiments/0\n"
     ]
    }
   ],
   "source": [
    "try: \n",
    "    config = ConfigurationManager()\n",
    "    model_evaluation_config = config.get_model_evaluation_config()\n",
    "    model_evaluation = ModelEvaluation(config=model_evaluation_config)\n",
    "    model_evaluation.log_into_mlflow(test_x,test_y)\n",
    "except Exception as e:\n",
    "    raise e"
   ]
  },
  {
   "cell_type": "code",
   "execution_count": null,
   "metadata": {},
   "outputs": [],
   "source": []
  }
 ],
 "metadata": {
  "kernelspec": {
   "display_name": "new_venv",
   "language": "python",
   "name": "python3"
  },
  "language_info": {
   "codemirror_mode": {
    "name": "ipython",
    "version": 3
   },
   "file_extension": ".py",
   "mimetype": "text/x-python",
   "name": "python",
   "nbconvert_exporter": "python",
   "pygments_lexer": "ipython3",
   "version": "3.12.7"
  }
 },
 "nbformat": 4,
 "nbformat_minor": 2
}
