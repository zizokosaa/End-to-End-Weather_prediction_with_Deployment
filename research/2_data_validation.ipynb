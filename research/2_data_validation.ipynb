{
 "cells": [
  {
   "cell_type": "code",
   "execution_count": 1,
   "metadata": {},
   "outputs": [],
   "source": [
    "import os"
   ]
  },
  {
   "cell_type": "code",
   "execution_count": 2,
   "metadata": {},
   "outputs": [
    {
     "data": {
      "text/plain": [
       "'f:\\\\zizo\\\\MLOPS\\\\datascienceproject\\\\research'"
      ]
     },
     "execution_count": 2,
     "metadata": {},
     "output_type": "execute_result"
    }
   ],
   "source": [
    "%pwd"
   ]
  },
  {
   "cell_type": "code",
   "execution_count": 3,
   "metadata": {},
   "outputs": [],
   "source": [
    "os.chdir(\"../\")"
   ]
  },
  {
   "cell_type": "code",
   "execution_count": 4,
   "metadata": {},
   "outputs": [
    {
     "data": {
      "text/plain": [
       "'f:\\\\zizo\\\\MLOPS\\\\datascienceproject'"
      ]
     },
     "execution_count": 4,
     "metadata": {},
     "output_type": "execute_result"
    }
   ],
   "source": [
    "%pwd"
   ]
  },
  {
   "cell_type": "code",
   "execution_count": 5,
   "metadata": {},
   "outputs": [
    {
     "data": {
      "text/html": [
       "<div>\n",
       "<style scoped>\n",
       "    .dataframe tbody tr th:only-of-type {\n",
       "        vertical-align: middle;\n",
       "    }\n",
       "\n",
       "    .dataframe tbody tr th {\n",
       "        vertical-align: top;\n",
       "    }\n",
       "\n",
       "    .dataframe thead th {\n",
       "        text-align: right;\n",
       "    }\n",
       "</style>\n",
       "<table border=\"1\" class=\"dataframe\">\n",
       "  <thead>\n",
       "    <tr style=\"text-align: right;\">\n",
       "      <th></th>\n",
       "      <th>STATION</th>\n",
       "      <th>NAME</th>\n",
       "      <th>LATITUDE</th>\n",
       "      <th>LONGITUDE</th>\n",
       "      <th>ELEVATION</th>\n",
       "      <th>DATE</th>\n",
       "      <th>TAVG</th>\n",
       "      <th>TAVG_ATTRIBUTES</th>\n",
       "    </tr>\n",
       "  </thead>\n",
       "  <tbody>\n",
       "    <tr>\n",
       "      <th>0</th>\n",
       "      <td>EGM00062318</td>\n",
       "      <td>ALEXANDRIA INTERNATIONAL, EG</td>\n",
       "      <td>31.184</td>\n",
       "      <td>29.949</td>\n",
       "      <td>-1.8</td>\n",
       "      <td>1/1/1957</td>\n",
       "      <td>15.7</td>\n",
       "      <td>H,,S</td>\n",
       "    </tr>\n",
       "    <tr>\n",
       "      <th>1</th>\n",
       "      <td>EGM00062318</td>\n",
       "      <td>ALEXANDRIA INTERNATIONAL, EG</td>\n",
       "      <td>31.184</td>\n",
       "      <td>29.949</td>\n",
       "      <td>-1.8</td>\n",
       "      <td>1/4/1957</td>\n",
       "      <td>11.1</td>\n",
       "      <td>H,,S</td>\n",
       "    </tr>\n",
       "    <tr>\n",
       "      <th>2</th>\n",
       "      <td>EGM00062318</td>\n",
       "      <td>ALEXANDRIA INTERNATIONAL, EG</td>\n",
       "      <td>31.184</td>\n",
       "      <td>29.949</td>\n",
       "      <td>-1.8</td>\n",
       "      <td>1/6/1957</td>\n",
       "      <td>11.7</td>\n",
       "      <td>H,,S</td>\n",
       "    </tr>\n",
       "    <tr>\n",
       "      <th>3</th>\n",
       "      <td>EGM00062318</td>\n",
       "      <td>ALEXANDRIA INTERNATIONAL, EG</td>\n",
       "      <td>31.184</td>\n",
       "      <td>29.949</td>\n",
       "      <td>-1.8</td>\n",
       "      <td>1/7/1957</td>\n",
       "      <td>12.6</td>\n",
       "      <td>H,,S</td>\n",
       "    </tr>\n",
       "    <tr>\n",
       "      <th>4</th>\n",
       "      <td>EGM00062318</td>\n",
       "      <td>ALEXANDRIA INTERNATIONAL, EG</td>\n",
       "      <td>31.184</td>\n",
       "      <td>29.949</td>\n",
       "      <td>-1.8</td>\n",
       "      <td>1/8/1957</td>\n",
       "      <td>10.4</td>\n",
       "      <td>H,,S</td>\n",
       "    </tr>\n",
       "  </tbody>\n",
       "</table>\n",
       "</div>"
      ],
      "text/plain": [
       "       STATION                          NAME  LATITUDE  LONGITUDE  ELEVATION  \\\n",
       "0  EGM00062318  ALEXANDRIA INTERNATIONAL, EG    31.184     29.949       -1.8   \n",
       "1  EGM00062318  ALEXANDRIA INTERNATIONAL, EG    31.184     29.949       -1.8   \n",
       "2  EGM00062318  ALEXANDRIA INTERNATIONAL, EG    31.184     29.949       -1.8   \n",
       "3  EGM00062318  ALEXANDRIA INTERNATIONAL, EG    31.184     29.949       -1.8   \n",
       "4  EGM00062318  ALEXANDRIA INTERNATIONAL, EG    31.184     29.949       -1.8   \n",
       "\n",
       "       DATE  TAVG TAVG_ATTRIBUTES  \n",
       "0  1/1/1957  15.7            H,,S  \n",
       "1  1/4/1957  11.1            H,,S  \n",
       "2  1/6/1957  11.7            H,,S  \n",
       "3  1/7/1957  12.6            H,,S  \n",
       "4  1/8/1957  10.4            H,,S  "
      ]
     },
     "execution_count": 5,
     "metadata": {},
     "output_type": "execute_result"
    }
   ],
   "source": [
    "import pandas as pd\n",
    "\n",
    "data = pd.read_csv(\"artifacts/data_ingestion/Temp_dataset.csv\")\n",
    "data.head()"
   ]
  },
  {
   "cell_type": "code",
   "execution_count": 6,
   "metadata": {},
   "outputs": [
    {
     "name": "stdout",
     "output_type": "stream",
     "text": [
      "<class 'pandas.core.frame.DataFrame'>\n",
      "RangeIndex: 21198 entries, 0 to 21197\n",
      "Data columns (total 8 columns):\n",
      " #   Column           Non-Null Count  Dtype  \n",
      "---  ------           --------------  -----  \n",
      " 0   STATION          21198 non-null  object \n",
      " 1   NAME             21198 non-null  object \n",
      " 2   LATITUDE         21198 non-null  float64\n",
      " 3   LONGITUDE        21198 non-null  float64\n",
      " 4   ELEVATION        21198 non-null  float64\n",
      " 5   DATE             21198 non-null  object \n",
      " 6   TAVG             21198 non-null  float64\n",
      " 7   TAVG_ATTRIBUTES  21198 non-null  object \n",
      "dtypes: float64(4), object(4)\n",
      "memory usage: 1.3+ MB\n"
     ]
    }
   ],
   "source": [
    "data.info()"
   ]
  },
  {
   "cell_type": "code",
   "execution_count": 7,
   "metadata": {},
   "outputs": [
    {
     "data": {
      "text/plain": [
       "STATION            0\n",
       "NAME               0\n",
       "LATITUDE           0\n",
       "LONGITUDE          0\n",
       "ELEVATION          0\n",
       "DATE               0\n",
       "TAVG               0\n",
       "TAVG_ATTRIBUTES    0\n",
       "dtype: int64"
      ]
     },
     "execution_count": 7,
     "metadata": {},
     "output_type": "execute_result"
    }
   ],
   "source": [
    "data.isnull().sum()"
   ]
  },
  {
   "cell_type": "code",
   "execution_count": 8,
   "metadata": {},
   "outputs": [
    {
     "data": {
      "text/plain": [
       "(21198, 8)"
      ]
     },
     "execution_count": 8,
     "metadata": {},
     "output_type": "execute_result"
    }
   ],
   "source": [
    "data.shape"
   ]
  },
  {
   "cell_type": "code",
   "execution_count": 9,
   "metadata": {},
   "outputs": [],
   "source": [
    "from dataclasses import dataclass\n",
    "from pathlib import Path\n",
    "\n",
    "@dataclass\n",
    "class DataValidationConfig:\n",
    "    root_dir: Path\n",
    "    STATUS_FILE: str\n",
    "    unzip_data_dir: Path\n",
    "    all_schema: dict"
   ]
  },
  {
   "cell_type": "code",
   "execution_count": 10,
   "metadata": {},
   "outputs": [],
   "source": [
    "from src.datascience.constants import *\n",
    "from src.datascience.utils.common import read_yaml, create_directories\n",
    "\n",
    "\n",
    "class ConfigurationManager:\n",
    "    def __init__(self,\n",
    "                 config_filepath=CONFIG_FILE_PATH,\n",
    "                 params_filepath=PARAMS_FILE_PATH,\n",
    "                 schema_filepath=SCHEMA_FILE_PATH):\n",
    "        self.config=read_yaml(config_filepath)\n",
    "        self.params=read_yaml(params_filepath)\n",
    "        self.schema=read_yaml(schema_filepath)\n",
    "\n",
    "        create_directories([self.config.artifacts_root])\n",
    "\n",
    "    def get_data_validation_config(self) -> DataValidationConfig:\n",
    "        config = self.config.data_validation\n",
    "        schema = self.schema.COLUMNS\n",
    "\n",
    "        create_directories([config.root_dir])\n",
    "\n",
    "        data_validation_config = DataValidationConfig(\n",
    "            root_dir=config.root_dir,\n",
    "            STATUS_FILE=config.STATUS_FILE,\n",
    "            unzip_data_dir=config.unzip_data_dir,\n",
    "            all_schema =schema,\n",
    "        )\n",
    "        return data_validation_config\n",
    "\n"
   ]
  },
  {
   "cell_type": "code",
   "execution_count": 11,
   "metadata": {},
   "outputs": [],
   "source": [
    "import os\n",
    "from src.datascience import logger"
   ]
  },
  {
   "cell_type": "code",
   "execution_count": 12,
   "metadata": {},
   "outputs": [],
   "source": [
    "class DataValidation:\n",
    "    def __init__(self,config: DataValidationConfig):\n",
    "        self.config = config\n",
    "        \n",
    "    def validate_all_columns(self)-> bool:\n",
    "        try: \n",
    "            validation_status = None\n",
    "\n",
    "            data = pd.read_csv(self.config.unzip_data_dir)\n",
    "            all_cols = list(data.columns)\n",
    "            all_schema = self.config.all_schema.keys()\n",
    "            for col in all_cols:\n",
    "                if col not in all_schema:\n",
    "                    validation_status = False\n",
    "                    with open(self.config.STATUS_FILE,'w') as f:\n",
    "                        f.write(f\"Validation status: {validation_status}\")\n",
    "                else:\n",
    "                    validation_status = True\n",
    "                    with open(self.config.STATUS_FILE,'w') as f:\n",
    "                        f.write(f\"Validation status: {validation_status}\")\n",
    "            return validation_status\n",
    "        except Exception as e:\n",
    "            raise e\n"
   ]
  },
  {
   "cell_type": "code",
   "execution_count": 14,
   "metadata": {},
   "outputs": [
    {
     "name": "stdout",
     "output_type": "stream",
     "text": [
      "[2025-03-11 03:58:36,761: INFO: common: yaml file: config\\config.yaml loaded successfully]\n",
      "[2025-03-11 03:58:36,764: INFO: common: yaml file: params.yaml loaded successfully]\n",
      "[2025-03-11 03:58:36,768: INFO: common: yaml file: schema.yaml loaded successfully]\n",
      "[2025-03-11 03:58:36,770: INFO: common: created directory at: artifacts]\n",
      "[2025-03-11 03:58:36,771: INFO: common: created directory at: artifacts/data_validation]\n"
     ]
    }
   ],
   "source": [
    "try:\n",
    "    config = ConfigurationManager()\n",
    "    data_validation_config = config.get_data_validation_config()\n",
    "    data_validation = DataValidation(config = data_validation_config)\n",
    "    data_validation.validate_all_columns()\n",
    "except Exception as e:\n",
    "    raise e"
   ]
  },
  {
   "cell_type": "code",
   "execution_count": null,
   "metadata": {},
   "outputs": [],
   "source": []
  }
 ],
 "metadata": {
  "kernelspec": {
   "display_name": "Python 3",
   "language": "python",
   "name": "python3"
  },
  "language_info": {
   "codemirror_mode": {
    "name": "ipython",
    "version": 3
   },
   "file_extension": ".py",
   "mimetype": "text/x-python",
   "name": "python",
   "nbconvert_exporter": "python",
   "pygments_lexer": "ipython3",
   "version": "3.10.16"
  }
 },
 "nbformat": 4,
 "nbformat_minor": 2
}
